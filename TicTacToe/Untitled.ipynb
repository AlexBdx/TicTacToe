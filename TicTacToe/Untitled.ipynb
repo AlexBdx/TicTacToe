{
 "cells": [
  {
   "cell_type": "markdown",
   "metadata": {},
   "source": [
    "# Fast scan\n",
    "The goal for this algo is to scan efficiently a grid to find a winner.\n",
    "Let's make sure we do not forget a corner case."
   ]
  },
  {
   "cell_type": "code",
   "execution_count": 1,
   "metadata": {},
   "outputs": [],
   "source": [
    "import numpy as np\n",
    "from TicTacToe import *"
   ]
  },
  {
   "cell_type": "code",
   "execution_count": 2,
   "metadata": {},
   "outputs": [],
   "source": [
    "grid = np.zeros((20, 20))\n",
    "pts = (1, 6, -10, -16)\n",
    "p1c1, p1c2, p2c1, p2c2 = pts\n",
    "max_l = 5\n",
    "ww = 2*max_l-1  # Window width\n",
    "\n",
    "subgrid = np.zeros((9, 9), dtype=np.int8)\n",
    "p1c1_pts = {\n",
    "    (0, 0), (1, 1), (2, 2), (3, 3),\n",
    "    (3, 1),\n",
    "    (4, 0), (4, 1), (4, 2), (4, 3),\n",
    "    (5, 1), (6, 1),\n",
    "    (2, 4),\n",
    "    (4, 5)\n",
    "}\n",
    "for i, j in p1c1_pts:\n",
    "    subgrid[i, j] = p1c1\n",
    "    \n",
    "p1c2_pts = {\n",
    "    \n",
    "    (2, 7), (3, 7), (4, 7), (5, 7), (6, 7)\n",
    "}\n",
    "for i, j in p1c2_pts:\n",
    "    subgrid[i, j] = p1c2\n",
    "\n",
    "\n",
    "p2c1_pts = {\n",
    "    (5, 2), (1, 4), (2, 3),\n",
    "    (3, 4), (3, 5), (3, 6),\n",
    "    (2, 6), (3, 6), (4, 6)\n",
    "}\n",
    "for i, j in p2c1_pts:\n",
    "    subgrid[i, j] = p2c1\n",
    "\n",
    "p2c2_pts = {\n",
    "    (6, 2), (6, 3), (6, 4), (6, 5), (6, 6)\n",
    "}\n",
    "for i, j in p2c2_pts:\n",
    "    subgrid[i, j] = p2c2\n",
    "\n"
   ]
  },
  {
   "cell_type": "code",
   "execution_count": 3,
   "metadata": {},
   "outputs": [],
   "source": [
    "# If a p1c1 is added in the center, how many points are scored? -> Should be 1\n",
    "p1win = {max_l*p1c1, (max_l-1)*p1c1 + p1c2}\n",
    "p2win = {max_l*p2c1, (max_l-1)*p2c1 + p2c2}"
   ]
  },
  {
   "cell_type": "code",
   "execution_count": 4,
   "metadata": {},
   "outputs": [
    {
     "data": {
      "text/plain": [
       "array([[  1,   0,   0,   0,   0,   0,   0,   0,   0],\n",
       "       [  0,   1,   0,   0, -10,   0,   0,   0,   0],\n",
       "       [  0,   0,   1, -10,   1,   0, -10,   6,   0],\n",
       "       [  0,   1,   0,   1, -10, -10, -10,   6,   0],\n",
       "       [  1,   1,   1,   1,   0,   1, -10,   6,   0],\n",
       "       [  0,   1, -10,   0,   0,   0,   0,   6,   0],\n",
       "       [  0,   1, -16, -16, -16, -16, -16,   6,   0],\n",
       "       [  0,   0,   0,   0,   0,   0,   0,   0,   0],\n",
       "       [  0,   0,   0,   0,   0,   0,   0,   0,   0]], dtype=int8)"
      ]
     },
     "execution_count": 4,
     "metadata": {},
     "output_type": "execute_result"
    }
   ],
   "source": [
    "subgrid"
   ]
  },
  {
   "cell_type": "code",
   "execution_count": 5,
   "metadata": {},
   "outputs": [
    {
     "data": {
      "text/plain": [
       "'# [DEBUG] Tic Tac Toe version\\nmax_l = 3\\nww = 3\\np1win = {max_l*p1c1, (max_l-1)*p1c1 + p1c2}\\np2win = {max_l*p2c1, (max_l-1)*p2c1 + p2c2}\\nsubgrid = np.array([[p1c1, 0, 0], [p1c1, 0, 0], [p1c1, 0, 0]], dtype=np.int8)\\nsubgrid\\n'"
      ]
     },
     "execution_count": 5,
     "metadata": {},
     "output_type": "execute_result"
    }
   ],
   "source": [
    "\"\"\"# [DEBUG] Tic Tac Toe version\n",
    "max_l = 3\n",
    "ww = 3\n",
    "p1win = {max_l*p1c1, (max_l-1)*p1c1 + p1c2}\n",
    "p2win = {max_l*p2c1, (max_l-1)*p2c1 + p2c2}\n",
    "subgrid = np.array([[p1c1, 0, 0], [p1c1, 0, 0], [p1c1, 0, 0]], dtype=np.int8)\n",
    "subgrid\n",
    "\"\"\""
   ]
  },
  {
   "cell_type": "code",
   "execution_count": 6,
   "metadata": {},
   "outputs": [
    {
     "data": {
      "text/plain": [
       "{5, 10}"
      ]
     },
     "execution_count": 6,
     "metadata": {},
     "output_type": "execute_result"
    }
   ],
   "source": [
    "p1win"
   ]
  },
  {
   "cell_type": "code",
   "execution_count": 7,
   "metadata": {},
   "outputs": [],
   "source": [
    "#i, j = 8, 8\n",
    "rmax, cmax = subgrid.shape\n",
    "#assert 0 <= i < ww and 0 <= j < ww\n",
    "for i in range(ww):\n",
    "    for j in range(ww):\n",
    "        temp_ = subgrid[i, j]\n",
    "        subgrid[i, j] = 100  # Place token\n",
    "        k, rl, cl = boardCheck.extractSubgrid(subgrid, i, j)\n",
    "        assert k[rl, cl] == 100\n",
    "        subgrid[i, j] = temp_  # Revert changes"
   ]
  },
  {
   "cell_type": "code",
   "execution_count": 8,
   "metadata": {},
   "outputs": [],
   "source": [
    "# Reset scores\n",
    "p1 = {'name': 'p1', 'win': p1win, 'score': 0, 'token_first': p1c1, 'token_assigned': p1c2}\n",
    "p2 = {'name': 'p2', 'win': p2win, 'score': 0, 'token_first': p2c1, 'token_assigned': p2c2}"
   ]
  },
  {
   "cell_type": "code",
   "execution_count": 9,
   "metadata": {},
   "outputs": [
    {
     "name": "stdout",
     "output_type": "stream",
     "text": [
      "1.72 ms ± 19.5 µs per loop (mean ± std. dev. of 7 runs, 1000 loops each)\n"
     ]
    }
   ],
   "source": [
    "# [TEST] Go through the subgrid, extract relevant array and count points\n",
    "def test_countSubgrid(subgrid):\n",
    "    for i in range(ww):\n",
    "        for j in range(ww):\n",
    "            #i, j = max_l-1, max_l-1  # Local coordinates of the last token placed\n",
    "            temp_ = subgrid[i, j]\n",
    "            subgrid[i, j] = p1['token_first']  # Place token\n",
    "            sg, r, c = boardCheck.extractSubgrid(subgrid, i, j)  # Get subgrid\n",
    "            boardCheck.check_row(sg, r, p1)\n",
    "            boardCheck.check_col(sg, c, p1)\n",
    "            boardCheck.check_hills(sg, r, c, p1)\n",
    "            boardCheck.check_dales(sg, r, c, p1)\n",
    "            subgrid[i, j] = temp_\n",
    "%timeit test_countSubgrid(subgrid)"
   ]
  },
  {
   "cell_type": "code",
   "execution_count": 10,
   "metadata": {},
   "outputs": [
    {
     "name": "stdout",
     "output_type": "stream",
     "text": [
      "3 0\n"
     ]
    }
   ],
   "source": [
    "print(p1['score'], p2['score'])"
   ]
  },
  {
   "cell_type": "code",
   "execution_count": 11,
   "metadata": {},
   "outputs": [
    {
     "data": {
      "text/plain": [
       "array([[  6,   0,   0,   0,   0,   0,   0,   0,   0],\n",
       "       [  0,   6,   0,   0, -10,   0,   0,   0,   0],\n",
       "       [  0,   6,   6, -10,   6,   0, -10,   6,   0],\n",
       "       [  0,   6,   0,   6, -10, -10, -10,   6,   0],\n",
       "       [  6,   6,   6,   6,   0,   1, -10,   6,   0],\n",
       "       [  0,   6, -10,   0,   0,   0,   0,   6,   0],\n",
       "       [  0,   6, -16, -16, -16, -16, -16,   6,   0],\n",
       "       [  0,   0,   0,   0,   0,   0,   0,   0,   0],\n",
       "       [  0,   0,   0,   0,   0,   0,   0,   0,   0]], dtype=int8)"
      ]
     },
     "execution_count": 11,
     "metadata": {},
     "output_type": "execute_result"
    }
   ],
   "source": [
    "subgrid"
   ]
  },
  {
   "cell_type": "code",
   "execution_count": null,
   "metadata": {},
   "outputs": [],
   "source": []
  }
 ],
 "metadata": {
  "kernelspec": {
   "display_name": "Python 3",
   "language": "python",
   "name": "python3"
  },
  "language_info": {
   "codemirror_mode": {
    "name": "ipython",
    "version": 3
   },
   "file_extension": ".py",
   "mimetype": "text/x-python",
   "name": "python",
   "nbconvert_exporter": "python",
   "pygments_lexer": "ipython3",
   "version": "3.7.3"
  }
 },
 "nbformat": 4,
 "nbformat_minor": 2
}
