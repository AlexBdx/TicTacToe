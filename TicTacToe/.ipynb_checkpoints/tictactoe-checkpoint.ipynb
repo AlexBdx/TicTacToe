{
 "cells": [
  {
   "cell_type": "markdown",
   "metadata": {},
   "source": [
    "Tic Tac Toe\n",
    "---\n",
    "Two players against each other\n",
    "\n",
    "<img style=\"float:left\" src=\"board.png\" alt=\"drawing\" width=\"200\"/>"
   ]
  },
  {
   "cell_type": "code",
   "execution_count": 1,
   "metadata": {},
   "outputs": [],
   "source": [
    "import numpy as np\n",
    "import pickle\n",
    "from tqdm import tqdm, tqdm_notebook\n",
    "import multiprocessing\n",
    "import matplotlib.pyplot as plt\n",
    "import collections\n",
    "from time import perf_counter\n",
    "import cProfile\n",
    "%load_ext snakeviz"
   ]
  },
  {
   "cell_type": "code",
   "execution_count": 2,
   "metadata": {},
   "outputs": [],
   "source": [
    "BOARD_ROWS = 4\n",
    "BOARD_COLS = 4\n",
    "WIN = 4\n",
    "assert WIN <= min(BOARD_ROWS, BOARD_COLS)"
   ]
  },
  {
   "cell_type": "code",
   "execution_count": 3,
   "metadata": {},
   "outputs": [],
   "source": [
    "np.random.seed(seed=42)"
   ]
  },
  {
   "cell_type": "markdown",
   "metadata": {},
   "source": [
    "### Board State\n",
    "---\n",
    "Reflect & Judge the state\n",
    "\n",
    "2 players p1 and p2; p1 uses symbol 1 and p2 uses symbol 2, vacancy as 0"
   ]
  },
  {
   "cell_type": "code",
   "execution_count": 4,
   "metadata": {},
   "outputs": [],
   "source": [
    "class State:\n",
    "    def __init__(self, p1, p2):\n",
    "        self.board = np.zeros((BOARD_ROWS, BOARD_COLS))\n",
    "        self.p1 = p1\n",
    "        self.p2 = p2\n",
    "        self.isEnd = False\n",
    "        self.boardHash = None\n",
    "        # init p1 plays first\n",
    "        self.playerSymbol = 1\n",
    "        self.available_positions = {j+i*BOARD_COLS: (i, j) for i in range(BOARD_ROWS) for j in range(BOARD_COLS)}\n",
    "        self.results = {\n",
    "            'played': 0,\n",
    "            'p1': [],\n",
    "            'p2': [],\n",
    "            'tie': []\n",
    "        }\n",
    "        \n",
    "    \n",
    "    def displayMetrics(self):\n",
    "        # Sanity checks\n",
    "        assert len(self.results[\"tie\"])+len(self.results[\"p1\"]) + len(self.results[\"p2\"]) == self.results[\"played\"]\n",
    "        print(\"[INFO] {} games played\".format(self.results[\"played\"]))\n",
    "        print(\"P1 won: {} | P2 won: {} | Ties: {}\"\n",
    "              .format(len(self.results[\"p1\"]), len(self.results[\"p2\"]), len(self.results[\"tie\"])))\n",
    "        \n",
    "        expand_result = np.zeros((self.results['played'],))\n",
    "        for game in self.results['p1']:\n",
    "            expand_result[game[0]] = 1\n",
    "        for game in self.results['p2']:\n",
    "            expand_result[game[0]] = -1\n",
    "        \n",
    "        \"\"\"\n",
    "        # Linear scatter plot\n",
    "        plt.figure(figsize=(15, 5))\n",
    "        plt.scatter(range(self.results[\"played\"]), expand_result, alpha=0.1)\n",
    "        plt.title('Overall training result')\n",
    "        plt.xlabel('Game number')\n",
    "        plt.ylabel('Won by')\n",
    "        \n",
    "        # Do the same with a semilogx instead\n",
    "        plt.figure(figsize=(15, 5))\n",
    "        plt.semilogx(range(self.results[\"played\"]), expand_result, linestyle=\"\", marker=\".\", alpha=0.1)\n",
    "        plt.title('Overall training result')\n",
    "        plt.xlabel('Game number')\n",
    "        plt.ylabel('Won by')\n",
    "        \"\"\"\n",
    "        \n",
    "        # Cum sum plot might be better?\n",
    "        cum_p1 = np.zeros((self.results['played'],))\n",
    "        cum_p2 = np.zeros((self.results['played'],))\n",
    "        cum_tie = np.zeros((self.results['played'],))\n",
    "        if expand_result[0] == 1: cum_p1[0] = 1\n",
    "        if expand_result[0] == -1: cum_p2[0] = 1\n",
    "        if expand_result[0] == 0: cum_tie[0] = 1\n",
    "        for i in range(1, self.results['played']):\n",
    "            cum_p1[i] = cum_p1[i-1] + 1 if expand_result[i] == 1 else cum_p1[i-1]\n",
    "            cum_p2[i] = cum_p2[i-1] + 1 if expand_result[i] == -1 else cum_p2[i-1]\n",
    "            cum_tie[i] = cum_tie[i-1] + 1 if expand_result[i] == 0 else cum_tie[i-1]\n",
    "        plt.figure(figsize=(15, 5))\n",
    "        plt.plot(cum_p1, label='Player 1')\n",
    "        plt.plot(cum_p2, label='Player 2')\n",
    "        plt.plot(cum_tie, label='Tie')\n",
    "        plt.legend()\n",
    "        plt.title(\"Cumulative win sum\")\n",
    "        plt.xlabel('Game number')\n",
    "        plt.ylabel('Cumulative score')\n",
    "        \n",
    "        # Learning & exploration rate over time\n",
    "        plt.figure(figsize=(15, 5))\n",
    "        lr = [self.p1.learningRate(k) for k in range(self.results['played'])]\n",
    "        explo = [self.p1.explorationRate(k) for k in range(self.results['played'])]\n",
    "        plt.plot(lr, label='Learning rate')\n",
    "        plt.plot(explo, label='Exploration rate')\n",
    "        plt.title('Evolution of the learning & exploration rates')\n",
    "        plt.xlabel('Game number')\n",
    "        plt.ylabel('Rate')\n",
    "        plt.legend()\n",
    "    \n",
    "    # get unique hash of current board state\n",
    "    def getHash(self, method='tostring'):\n",
    "        if method == 'str':\n",
    "            self.boardHash = str(self.board.reshape(BOARD_COLS*BOARD_ROWS))\n",
    "        elif method == 'tostring':\n",
    "            self.boardHash = self.board.tostring()\n",
    "        return self.boardHash\n",
    "    \n",
    "    def winner(self):\n",
    "        \"\"\"\n",
    "        Checks if there is a winner already or not by hecking rows, cols and diag on the board.\n",
    "        The whole board is rechecked, which wastes some time.\n",
    "        return: 1 of player 1 won, -1 if player 2, 0 if tie\n",
    "        \"\"\"\n",
    "        #print(\"Checking the board - still {} positions to play\".format(len(self.available_positions)))\n",
    "        # row\n",
    "        for i in range(BOARD_ROWS):\n",
    "            if sum(self.board[i, :]) == WIN:\n",
    "                self.isEnd = True\n",
    "                return 1\n",
    "            if sum(self.board[i, :]) == -WIN:\n",
    "                self.isEnd = True\n",
    "                return -1\n",
    "        # col\n",
    "        for i in range(BOARD_COLS):\n",
    "            if sum(self.board[:, i]) == WIN:\n",
    "                self.isEnd = True\n",
    "                return 1\n",
    "            if sum(self.board[:, i]) == -WIN:\n",
    "                self.isEnd = True\n",
    "                return -1\n",
    "        \n",
    "        \"\"\"Should use hills/dales\"\"\"\n",
    "        # diagonal\n",
    "        diag_sum1 = sum([self.board[i, i] for i in range(BOARD_COLS)])\n",
    "        diag_sum2 = sum([self.board[i, BOARD_COLS-i-1] for i in range(BOARD_COLS)])\n",
    "        #diag_sum = max(diag_sum1, diag_sum2)\n",
    "        if diag_sum1 == WIN or diag_sum2 == WIN:\n",
    "            self.isEnd = True\n",
    "            return 1\n",
    "        if diag_sum1 == -WIN or diag_sum2 == -WIN:\n",
    "            self.isEnd = True\n",
    "            return -1\n",
    "        \n",
    "        # tie\n",
    "        # no available positions\n",
    "        #if len(self.availablePositions()) == 0:\n",
    "        if len(self.available_positions) == 0:\n",
    "            self.isEnd = True\n",
    "            return 0\n",
    "        # not end\n",
    "        self.isEnd = False\n",
    "        return None\n",
    "    \n",
    "    \"\"\"\n",
    "    def availablePositions(self):\n",
    "        positions = []\n",
    "        for i in range(BOARD_ROWS):\n",
    "            for j in range(BOARD_COLS):\n",
    "                if self.board[i, j] == 0:\n",
    "                    positions.append((i, j))  # need to be tuple\n",
    "        return positions\n",
    "    \"\"\"\n",
    "    \n",
    "    def updateState(self, position):\n",
    "        self.board[position] = self.playerSymbol\n",
    "        # switch to another player\n",
    "        self.playerSymbol = -1 if self.playerSymbol == 1 else 1\n",
    "    \n",
    "    # only when game ends\n",
    "    def giveReward(self):\n",
    "        result = self.winner()\n",
    "        # backpropagate reward\n",
    "        if result == 1:  # p1 won\n",
    "            self.p1.feedReward(1, self.game_number)\n",
    "            self.p2.feedReward(0, self.game_number)\n",
    "        elif result == -1:  # p2 won\n",
    "            self.p1.feedReward(0, self.game_number)\n",
    "            self.p2.feedReward(1, self.game_number)\n",
    "        else:  # There was a tie or the game is still running\n",
    "            self.p1.feedReward(0.1, self.game_number)\n",
    "            self.p2.feedReward(0.5, self.game_number)\n",
    "        \n",
    "    \n",
    "    # board reset\n",
    "    def reset(self):\n",
    "        self.board = np.zeros((BOARD_ROWS, BOARD_COLS))\n",
    "        self.boardHash = None\n",
    "        self.isEnd = False\n",
    "        self.playerSymbol = 1\n",
    "        self.available_positions = {j+i*BOARD_COLS: (i, j) for i in range(BOARD_ROWS) for j in range(BOARD_COLS)}\n",
    "    \n",
    "    def play(self, rounds=100):\n",
    "        for i in tqdm_notebook(range(rounds)):\n",
    "            self.game_number = i\n",
    "            #if i%1000 == 0:\n",
    "                #print(\"Saving policy at round {}\".format(i))\n",
    "                #self.p1.savePolicy(title='p1r'+str(i))\n",
    "            #assert not self.isEnd\n",
    "            turns = 0  # Tracks how many turns were played before a winner was found\n",
    "            \n",
    "            while not self.isEnd:\n",
    "                # Player 1\n",
    "                #positions = self.availablePositions()\n",
    "                p1_action = self.p1.chooseAction(self.available_positions, self.board, self.playerSymbol, self.game_number)\n",
    "                \n",
    "                # take action and upate board state\n",
    "                self.updateState(p1_action)\n",
    "                board_hash = self.getHash()\n",
    "                self.p1.addState(board_hash)\n",
    "                \n",
    "                # check board status if it is end\n",
    "\n",
    "                win = self.winner()\n",
    "                if win is not None:\n",
    "                    # self.showBoard()\n",
    "                    # ended with p1 either win or draw\n",
    "                    if win == 1:\n",
    "                        self.results['p1'].append((i, turns))\n",
    "                    elif win == 0:\n",
    "                        self.results['tie'].append((i, turns))\n",
    "                    else:\n",
    "                        raise ValueError('[ERROR] Only p1 can have won at this stage or tied')\n",
    "                    self.giveReward()\n",
    "                    self.p1.reset()\n",
    "                    self.p2.reset()\n",
    "                    self.reset()\n",
    "                    break\n",
    "\n",
    "                else:\n",
    "                    # Player 2\n",
    "                    #positions = self.availablePositions()\n",
    "                    p2_action = self.p2.chooseAction(self.available_positions, self.board, self.playerSymbol, self.game_number)\n",
    "                    self.updateState(p2_action)\n",
    "                    board_hash = self.getHash()\n",
    "                    self.p2.addState(board_hash)\n",
    "                    \n",
    "                    win = self.winner()\n",
    "                    if win is not None:\n",
    "                        # self.showBoard()\n",
    "                        # ended with p2 either win or draw\n",
    "                        if win == -1:\n",
    "                            self.results['p2'].append((i, turns))\n",
    "                        elif win == 0:\n",
    "                            self.results['tie'].append((i, turns))\n",
    "                        else:\n",
    "                            raise ValueError('[ERROR] Only p2 can have won at this stage or tied')\n",
    "                        \n",
    "                        self.giveReward()\n",
    "                        self.p1.reset()\n",
    "                        self.p2.reset()\n",
    "                        self.reset()\n",
    "                        break\n",
    "                turns += 1  # Another turn was played\n",
    "\n",
    "            \n",
    "            self.results['played'] += 1\n",
    "            \n",
    "            \n",
    "    \n",
    "    # play with human\n",
    "    def play2(self):\n",
    "        while not self.isEnd:\n",
    "            # Player 1\n",
    "            #positions = self.availablePositions()\n",
    "            p1_action = self.p1.chooseAction(self.available_positions, self.board, self.playerSymbol)\n",
    "            # take action and upate board state\n",
    "            self.updateState(p1_action)\n",
    "            self.showBoard()\n",
    "            # check board status if it is end\n",
    "            win = self.winner()\n",
    "            if win is not None:\n",
    "                if win == 1:\n",
    "                    print(self.p1.name, \"wins!\")\n",
    "                else:\n",
    "                    print(\"tie!\")\n",
    "                self.reset()\n",
    "                break\n",
    "\n",
    "            else:\n",
    "                # Player 2\n",
    "                #positions = self.availablePositions()\n",
    "                p2_action = self.p2.chooseAction(self.available_positions)\n",
    "\n",
    "                self.updateState(p2_action)\n",
    "                self.showBoard()\n",
    "                win = self.winner()\n",
    "                if win is not None:\n",
    "                    if win == -1:\n",
    "                        print(self.p2.name, \"wins!\")\n",
    "                    else:\n",
    "                        print(\"tie!\")\n",
    "                    self.reset()\n",
    "                    break\n",
    "    \n",
    "    def benchmark(self, rounds=100):        \n",
    "        for i in tqdm_notebook(range(rounds)):\n",
    "            if i%1000 == 0:\n",
    "                print(\"Saving policy at round {}\".format(i))\n",
    "                self.p1.savePolicy(title='p1r'+str(i))\n",
    "            #assert not self.isEnd\n",
    "            while not self.isEnd:\n",
    "                # Player 1\n",
    "                #positions = self.availablePositions()\n",
    "                p1_action = self.p1.chooseAction(self.available_positions, self.board, self.playerSymbol, self.game_number)\n",
    "                # take action and upate board state\n",
    "                self.updateState(p1_action)\n",
    "                board_hash = self.getHash()\n",
    "                self.p1.addState(board_hash)\n",
    "                # check board status if it is end\n",
    "\n",
    "                win = self.winner()\n",
    "                if win is not None:\n",
    "                    # self.showBoard()\n",
    "                    # ended with p1 either win or draw\n",
    "                    self.update_results\n",
    "                    self.giveReward()\n",
    "                    self.p1.reset()\n",
    "                    self.p2.reset()\n",
    "                    self.reset()\n",
    "                    break\n",
    "\n",
    "                else:\n",
    "                    # Player 2\n",
    "                    #positions = self.availablePositions()\n",
    "                    p2_action = self.p2.chooseAction(self.available_positions, self.board, self.playerSymbol, self.game_number)\n",
    "                    self.updateState(p2_action)\n",
    "                    board_hash = self.getHash()\n",
    "                    self.p2.addState(board_hash)\n",
    "                    \n",
    "                    win = self.winner()\n",
    "                    if win is not None:\n",
    "                        # self.showBoard()\n",
    "                        # ended with p2 either win or draw\n",
    "                        self.giveReward()\n",
    "                        self.p1.reset()\n",
    "                        self.p2.reset()\n",
    "                        self.reset()\n",
    "                        break\n",
    "\n",
    "    def showBoard(self):\n",
    "        # p1: x  p2: o\n",
    "        for i in range(0, BOARD_ROWS):\n",
    "            print('-------------')\n",
    "            out = '| '\n",
    "            for j in range(0, BOARD_COLS):\n",
    "                if self.board[i, j] == 1:\n",
    "                    token = 'x'\n",
    "                if self.board[i, j] == -1:\n",
    "                    token = 'o'\n",
    "                if self.board[i, j] == 0:\n",
    "                    token = ' '\n",
    "                out += token + ' | '\n",
    "            print(out)\n",
    "        print('-------------')    "
   ]
  },
  {
   "cell_type": "code",
   "execution_count": 5,
   "metadata": {},
   "outputs": [],
   "source": [
    "class Player:\n",
    "    def __init__(self, name, exp_rate=0.3):\n",
    "        self.name = name\n",
    "        self.states = []  # record all positions taken\n",
    "        self.lr_scheduler = {\n",
    "            'start': 0.2,\n",
    "            'decreasing': (500, 1500),\n",
    "            'end': 0.2\n",
    "        }\n",
    "        #self.exp_rate = exp_rate  # Exploration rate\n",
    "        self.explo_scheduler = {\n",
    "            'start': 0.3,\n",
    "            'decreasing': (1000, 2000),\n",
    "            'end': 0\n",
    "        }\n",
    "        self.decay_gamma = 0.9  # Discount rate\n",
    "        self.states_value = {}  # state -> value\n",
    "        \n",
    "        # Sanity checks - make sure the schedulers have con\n",
    "    def test_learningRate(self):\n",
    "        assert learningRate(self, self.lr_scheduler['decreasing'][0]) == self.lr_scheduler['start']\n",
    "        assert learningRate(self, self.lr_scheduler['decreasing'][1]) == self.lr_scheduler['end']\n",
    "    \n",
    "    def test_explorationRate(self):\n",
    "        assert explorationRate(self, self.explo_scheduler['decreasing'][0]) == self.explo_scheduler['start']\n",
    "        assert explorationRate(self, self.explo_scheduler['decreasing'][1]) == self.explo_scheduler['end']\n",
    "        \n",
    "        \n",
    "    def learningRate(self, iteration):\n",
    "        if iteration < self.lr_scheduler['decreasing'][0]:\n",
    "            return self.lr_scheduler['start']\n",
    "        elif self.lr_scheduler['decreasing'][0] <= iteration < self.lr_scheduler['decreasing'][1]:\n",
    "            offset = self.lr_scheduler['decreasing'][0]\n",
    "            span = self.lr_scheduler['decreasing'][1] - self.lr_scheduler['decreasing'][0]\n",
    "            return self.lr_scheduler['start']-(self.lr_scheduler['start']-self.lr_scheduler['end'])*(iteration-offset)/span\n",
    "        else:\n",
    "            return self.lr_scheduler['end']\n",
    "    \n",
    "    def explorationRate(self, iteration):\n",
    "        if iteration < self.explo_scheduler['decreasing'][0]:\n",
    "            return self.explo_scheduler['start']\n",
    "        elif self.explo_scheduler['decreasing'][0] <= iteration < self.explo_scheduler['decreasing'][1]:\n",
    "            offset = self.explo_scheduler['decreasing'][0]\n",
    "            span = self.explo_scheduler['decreasing'][1] - self.explo_scheduler['decreasing'][0]\n",
    "            return self.explo_scheduler['start']-(self.explo_scheduler['start']-self.explo_scheduler['end'])*(iteration-offset)/span\n",
    "        else:\n",
    "            return self.explo_scheduler['end']\n",
    "    \n",
    "    \n",
    "    def getHash(self, board, method='tostring'):\n",
    "        if method == 'str':\n",
    "            boardHash = str(board.reshape(BOARD_COLS*BOARD_ROWS))\n",
    "        elif method == 'tostring':\n",
    "            boardHash = board.tostring()\n",
    "        return boardHash\n",
    "    \n",
    "    def chooseAction(self, positions, current_board, symbol, iteration):\n",
    "        #if np.random.uniform(0, 1) <= self.exp_rate:\n",
    "        if np.random.uniform(0, 1) <= self.explorationRate(iteration):\n",
    "            # take random action\n",
    "            idx = np.random.choice(len(positions))\n",
    "            action = positions[idx]\n",
    "            self.deletePosition(positions, idx)\n",
    "        else:  # Calculate the score for all the possible upcoming states (maximum n*m for the first move)\n",
    "            value_max = -999\n",
    "            #i = -1\n",
    "            #print(positions)\n",
    "            for idx, pos in positions.items():  # Evaluate all next moves\n",
    "                \"\"\"\n",
    "                # Option 1: copy the whole array\n",
    "                next_board = current_board.copy()\n",
    "                next_board[pos] = symbol  # Valid because this positions has all the valid moves\n",
    "                next_boardHash = self.getHash(next_board)  # Do we need that function call?\n",
    "                \n",
    "                \"\"\"\n",
    "                # Option 2: incremental move & revert\n",
    "                temp_ = current_board[pos]\n",
    "                current_board[pos] = symbol\n",
    "                next_boardHash = self.getHash(current_board)\n",
    "                current_board[pos] = temp_\n",
    "                \n",
    "\n",
    "\n",
    "                #value = self.states_value.get(next_boardHash, 0)\n",
    "                #print(value, value_max)\n",
    "                value = 0 if self.states_value.get(next_boardHash) is None else self.states_value.get(next_boardHash)\n",
    "                # print(\"value\", value)\n",
    "                \n",
    "                # Selects the action with the highest value\n",
    "                if value >= value_max:\n",
    "                    value_max = value\n",
    "                    action = pos\n",
    "                    i = idx\n",
    "        # print(\"{} takes action {}\".format(self.name, action))\n",
    "            self.deletePosition(positions, i)  # Played position i\n",
    "        return action\n",
    "    \n",
    "    def deletePosition(self, positions, idx):\n",
    "        # Remove that position from the dict by copying the last entry to idx\n",
    "        # As random deletes are made, the index stop meaning anything and\n",
    "        # are just a convenient way to randomly sample the distribution.\n",
    "        len_ = len(positions)  # O(1)\n",
    "        positions[idx] = positions[len_-1]  # O(1)\n",
    "        del positions[len_-1]  # O(1)\n",
    "            \n",
    "    # append a hash state\n",
    "    def addState(self, state):\n",
    "        self.states.append(state)\n",
    "    \n",
    "    # at the end of game, backpropagate and update states value\n",
    "    def feedReward(self, reward, iteration):\n",
    "        for st in reversed(self.states):\n",
    "            if self.states_value.get(st) is None:\n",
    "                self.states_value[st] = 0\n",
    "            #self.states_value[st] += self.lr*(self.decay_gamma*reward - self.states_value[st])\n",
    "            self.states_value[st] += self.learningRate(iteration)*(self.decay_gamma*reward - self.states_value[st])\n",
    "            reward = self.states_value[st]\n",
    "            \n",
    "    def reset(self):\n",
    "        self.states = []\n",
    "        \n",
    "    def savePolicy(self, title=None):\n",
    "        title = 'policy_'+str(self.name) if title is None else title\n",
    "        with open(title , 'wb') as fw:\n",
    "            pickle.dump(self.states_value, fw)\n",
    "\n",
    "    def loadPolicy(self, file):\n",
    "        with open(file,'rb') as fr:\n",
    "            self.states_value = pickle.load(fr)"
   ]
  },
  {
   "cell_type": "code",
   "execution_count": 6,
   "metadata": {},
   "outputs": [],
   "source": [
    "class HumanPlayer:\n",
    "    def __init__(self, name):\n",
    "        self.name = name \n",
    "    \n",
    "    def chooseAction(self, positions):\n",
    "        while True:\n",
    "            row = int(input(\"Input your action row:\"))\n",
    "            col = int(input(\"Input your action col:\"))\n",
    "            action = (row, col)\n",
    "            if action in positions.values():\n",
    "                # Find the corresponding key - gettho but ok as we play vs human\n",
    "                idx = next(k for k, v in positions.items() if v == action)\n",
    "                self.deletePosition(positions, idx)\n",
    "                return action\n",
    "    \n",
    "    def deletePosition(self, positions, idx):\n",
    "        # Remove that position from the dict by copying the last entry to idx\n",
    "        # As random deletes are made, the index stop meaning anything and\n",
    "        # are just a convenient way to randomly sample the distribution.\n",
    "        len_ = len(positions)  # O(1)\n",
    "        positions[idx] = positions[len_-1]  # O(1)\n",
    "        del positions[len_-1]  # O(1)\n",
    "        \n",
    "    # append a hash state\n",
    "    def addState(self, state):\n",
    "        pass\n",
    "    \n",
    "    # at the end of game, backpropagate and update states value\n",
    "    def feedReward(self, reward):\n",
    "        pass\n",
    "            \n",
    "    def reset(self):\n",
    "        pass"
   ]
  },
  {
   "cell_type": "markdown",
   "metadata": {},
   "source": [
    "### Training"
   ]
  },
  {
   "cell_type": "code",
   "execution_count": 7,
   "metadata": {
    "scrolled": true
   },
   "outputs": [
    {
     "name": "stdout",
     "output_type": "stream",
     "text": [
      "Training...\n"
     ]
    },
    {
     "data": {
      "application/vnd.jupyter.widget-view+json": {
       "model_id": "dd2b82fc0e7c4318a23c0fa2d099c1fe",
       "version_major": 2,
       "version_minor": 0
      },
      "text/plain": [
       "HBox(children=(IntProgress(value=0, max=3501), HTML(value='')))"
      ]
     },
     "metadata": {},
     "output_type": "display_data"
    },
    {
     "name": "stdout",
     "output_type": "stream",
     "text": [
      "\n"
     ]
    },
    {
     "data": {
      "application/vnd.jupyter.widget-view+json": {
       "model_id": "6b612c5c663d48ac9b4c216886902d51",
       "version_major": 2,
       "version_minor": 0
      },
      "text/plain": [
       "HBox(children=(IntProgress(value=0, max=3501), HTML(value='')))"
      ]
     },
     "metadata": {},
     "output_type": "display_data"
    },
    {
     "name": "stdout",
     "output_type": "stream",
     "text": [
      "\n"
     ]
    },
    {
     "data": {
      "application/vnd.jupyter.widget-view+json": {
       "model_id": "535d7cc994394852a9b6a4914de4d478",
       "version_major": 2,
       "version_minor": 0
      },
      "text/plain": [
       "HBox(children=(IntProgress(value=0, max=3501), HTML(value='')))"
      ]
     },
     "metadata": {},
     "output_type": "display_data"
    },
    {
     "name": "stdout",
     "output_type": "stream",
     "text": [
      "\n"
     ]
    },
    {
     "data": {
      "application/vnd.jupyter.widget-view+json": {
       "model_id": "38e4aee0401742fc81458a88dac741ad",
       "version_major": 2,
       "version_minor": 0
      },
      "text/plain": [
       "HBox(children=(IntProgress(value=0, max=3501), HTML(value='')))"
      ]
     },
     "metadata": {},
     "output_type": "display_data"
    },
    {
     "name": "stdout",
     "output_type": "stream",
     "text": [
      "\n"
     ]
    },
    {
     "data": {
      "application/vnd.jupyter.widget-view+json": {
       "model_id": "ac0c60f54ac74bb2aae20e2014bbbc6e",
       "version_major": 2,
       "version_minor": 0
      },
      "text/plain": [
       "HBox(children=(IntProgress(value=0, max=3501), HTML(value='')))"
      ]
     },
     "metadata": {},
     "output_type": "display_data"
    },
    {
     "name": "stdout",
     "output_type": "stream",
     "text": [
      "\n"
     ]
    },
    {
     "data": {
      "application/vnd.jupyter.widget-view+json": {
       "model_id": "b7763260e8ba4793bfba167ebc2a555f",
       "version_major": 2,
       "version_minor": 0
      },
      "text/plain": [
       "HBox(children=(IntProgress(value=0, max=3501), HTML(value='')))"
      ]
     },
     "metadata": {},
     "output_type": "display_data"
    },
    {
     "name": "stdout",
     "output_type": "stream",
     "text": [
      "\n"
     ]
    },
    {
     "data": {
      "application/vnd.jupyter.widget-view+json": {
       "model_id": "aef3ddf320274c5fa8dda414d9b0dfbc",
       "version_major": 2,
       "version_minor": 0
      },
      "text/plain": [
       "HBox(children=(IntProgress(value=0, max=3501), HTML(value='')))"
      ]
     },
     "metadata": {},
     "output_type": "display_data"
    },
    {
     "name": "stdout",
     "output_type": "stream",
     "text": [
      "\n"
     ]
    },
    {
     "data": {
      "application/vnd.jupyter.widget-view+json": {
       "model_id": "50b5cdf6c8fa468dae8a33c857d1dc73",
       "version_major": 2,
       "version_minor": 0
      },
      "text/plain": [
       "HBox(children=(IntProgress(value=0, max=3501), HTML(value='')))"
      ]
     },
     "metadata": {},
     "output_type": "display_data"
    },
    {
     "name": "stdout",
     "output_type": "stream",
     "text": [
      "\n",
      "2.27 s ± 99.6 ms per loop (mean ± std. dev. of 7 runs, 1 loop each)\n"
     ]
    }
   ],
   "source": [
    "p1 = Player(\"p1\")\n",
    "p2 = Player(\"p2\")\n",
    "\n",
    "st = State(p1, p2)\n",
    "print(\"Training...\")\n",
    "%timeit st.play(3501)\n",
    "#cProfile.run('st.play(3501)', sort='cumtime')\n",
    "#%snakeviz st.play(3501)"
   ]
  },
  {
   "cell_type": "code",
   "execution_count": 8,
   "metadata": {},
   "outputs": [
    {
     "name": "stdout",
     "output_type": "stream",
     "text": [
      "[INFO] 28008 games played\n",
      "P1 won: 6512 | P2 won: 4043 | Ties: 17453\n"
     ]
    },
    {
     "data": {
      "image/png": "[encoded data removed]",
      "text/plain": [
       "<Figure size 1080x360 with 1 Axes>"
      ]
     },
     "metadata": {
      "needs_background": "light"
     },
     "output_type": "display_data"
    },
    {
     "data": {
      "image/png": "[encoded data removed]",
      "text/plain": [
       "<Figure size 1080x360 with 1 Axes>"
      ]
     },
     "metadata": {
      "needs_background": "light"
     },
     "output_type": "display_data"
    }
   ],
   "source": [
    "st.displayMetrics()"
   ]
  },
  {
   "cell_type": "markdown",
   "metadata": {},
   "source": [
    "## Benchmark the policies\n",
    "In this section, the policies will all play against the one with the largest iteration count in order to quantify their relative performance."
   ]
  },
  {
   "cell_type": "code",
   "execution_count": 9,
   "metadata": {},
   "outputs": [
    {
     "ename": "FileNotFoundError",
     "evalue": "[Errno 2] No such file or directory: 'p1r1000'",
     "output_type": "error",
     "traceback": [
      "\u001b[0;31m---------------------------------------------------------------------------\u001b[0m",
      "\u001b[0;31mFileNotFoundError\u001b[0m                         Traceback (most recent call last)",
      "\u001b[0;32m<ipython-input-9-5a7b218606d8>\u001b[0m in \u001b[0;36m<module>\u001b[0;34m\u001b[0m\n\u001b[1;32m      1\u001b[0m \u001b[0mp1\u001b[0m \u001b[0;34m=\u001b[0m \u001b[0mPlayer\u001b[0m\u001b[0;34m(\u001b[0m\u001b[0;34m\"learner\"\u001b[0m\u001b[0;34m,\u001b[0m \u001b[0mexp_rate\u001b[0m\u001b[0;34m=\u001b[0m\u001b[0;36m0\u001b[0m\u001b[0;34m)\u001b[0m\u001b[0;34m\u001b[0m\u001b[0;34m\u001b[0m\u001b[0m\n\u001b[0;32m----> 2\u001b[0;31m \u001b[0mp1\u001b[0m\u001b[0;34m.\u001b[0m\u001b[0mloadPolicy\u001b[0m\u001b[0;34m(\u001b[0m\u001b[0;34m\"p1r1000\"\u001b[0m\u001b[0;34m)\u001b[0m\u001b[0;34m\u001b[0m\u001b[0;34m\u001b[0m\u001b[0m\n\u001b[0m\u001b[1;32m      3\u001b[0m \u001b[0;34m\u001b[0m\u001b[0m\n\u001b[1;32m      4\u001b[0m \u001b[0mp2\u001b[0m \u001b[0;34m=\u001b[0m \u001b[0mPlayer\u001b[0m\u001b[0;34m(\u001b[0m\u001b[0;34m\"wise\"\u001b[0m\u001b[0;34m,\u001b[0m \u001b[0mexp_rate\u001b[0m\u001b[0;34m=\u001b[0m\u001b[0;36m0\u001b[0m\u001b[0;34m)\u001b[0m\u001b[0;34m\u001b[0m\u001b[0;34m\u001b[0m\u001b[0m\n\u001b[1;32m      5\u001b[0m \u001b[0mp2\u001b[0m\u001b[0;34m.\u001b[0m\u001b[0mloadPolicy\u001b[0m\u001b[0;34m(\u001b[0m\u001b[0;34m\"p1r2000\"\u001b[0m\u001b[0;34m)\u001b[0m\u001b[0;34m\u001b[0m\u001b[0;34m\u001b[0m\u001b[0m\n",
      "\u001b[0;32m<ipython-input-5-70c5d0393553>\u001b[0m in \u001b[0;36mloadPolicy\u001b[0;34m(self, file)\u001b[0m\n\u001b[1;32m    126\u001b[0m \u001b[0;34m\u001b[0m\u001b[0m\n\u001b[1;32m    127\u001b[0m     \u001b[0;32mdef\u001b[0m \u001b[0mloadPolicy\u001b[0m\u001b[0;34m(\u001b[0m\u001b[0mself\u001b[0m\u001b[0;34m,\u001b[0m \u001b[0mfile\u001b[0m\u001b[0;34m)\u001b[0m\u001b[0;34m:\u001b[0m\u001b[0;34m\u001b[0m\u001b[0;34m\u001b[0m\u001b[0m\n\u001b[0;32m--> 128\u001b[0;31m         \u001b[0;32mwith\u001b[0m \u001b[0mopen\u001b[0m\u001b[0;34m(\u001b[0m\u001b[0mfile\u001b[0m\u001b[0;34m,\u001b[0m\u001b[0;34m'rb'\u001b[0m\u001b[0;34m)\u001b[0m \u001b[0;32mas\u001b[0m \u001b[0mfr\u001b[0m\u001b[0;34m:\u001b[0m\u001b[0;34m\u001b[0m\u001b[0;34m\u001b[0m\u001b[0m\n\u001b[0m\u001b[1;32m    129\u001b[0m             \u001b[0mself\u001b[0m\u001b[0;34m.\u001b[0m\u001b[0mstates_value\u001b[0m \u001b[0;34m=\u001b[0m \u001b[0mpickle\u001b[0m\u001b[0;34m.\u001b[0m\u001b[0mload\u001b[0m\u001b[0;34m(\u001b[0m\u001b[0mfr\u001b[0m\u001b[0;34m)\u001b[0m\u001b[0;34m\u001b[0m\u001b[0;34m\u001b[0m\u001b[0m\n",
      "\u001b[0;31mFileNotFoundError\u001b[0m: [Errno 2] No such file or directory: 'p1r1000'"
     ]
    }
   ],
   "source": [
    "p1 = Player(\"learner\", exp_rate=0)\n",
    "p1.loadPolicy(\"p1r1000\")\n",
    "\n",
    "p2 = Player(\"wise\", exp_rate=0)\n",
    "p2.loadPolicy(\"p1r2000\")\n",
    "\n",
    "st = State(p1, p2)\n",
    "st.play()"
   ]
  },
  {
   "cell_type": "code",
   "execution_count": null,
   "metadata": {},
   "outputs": [],
   "source": [
    "p1.savePolicy()\n",
    "p2.savePolicy()"
   ]
  },
  {
   "cell_type": "code",
   "execution_count": null,
   "metadata": {},
   "outputs": [],
   "source": [
    "p1.loadPolicy(\"policy_p1\")"
   ]
  },
  {
   "cell_type": "markdown",
   "metadata": {},
   "source": [
    "### Human vs Computer"
   ]
  },
  {
   "cell_type": "code",
   "execution_count": null,
   "metadata": {
    "scrolled": true
   },
   "outputs": [],
   "source": [
    "p1 = Player(\"computer\", exp_rate=0)\n",
    "p1.loadPolicy(\"policy_p1\")\n",
    "\n",
    "p2 = HumanPlayer(\"human\")\n",
    "\n",
    "st = State(p1, p2)\n",
    "st.play2()"
   ]
  },
  {
   "cell_type": "code",
   "execution_count": null,
   "metadata": {},
   "outputs": [],
   "source": [
    "p1 = Player(\"computer\", exp_rate=0)\n",
    "p1.loadPolicy(\"policy_p2\")\n",
    "\n",
    "p2 = HumanPlayer(\"human\")\n",
    "\n",
    "st = State(p1, p2)\n",
    "st.play2()"
   ]
  },
  {
   "cell_type": "code",
   "execution_count": null,
   "metadata": {},
   "outputs": [],
   "source": [
    "n = m = 3"
   ]
  },
  {
   "cell_type": "code",
   "execution_count": null,
   "metadata": {},
   "outputs": [],
   "source": [
    "d = {j+i*m: (i, j) for i in range(n) for j in range(m)}"
   ]
  },
  {
   "cell_type": "code",
   "execution_count": null,
   "metadata": {},
   "outputs": [],
   "source": [
    "d"
   ]
  },
  {
   "cell_type": "code",
   "execution_count": null,
   "metadata": {},
   "outputs": [],
   "source": []
  }
 ],
 "metadata": {
  "kernelspec": {
   "display_name": "Python 3",
   "language": "python",
   "name": "python3"
  },
  "language_info": {
   "codemirror_mode": {
    "name": "ipython",
    "version": 3
   },
   "file_extension": ".py",
   "mimetype": "text/x-python",
   "name": "python",
   "nbconvert_exporter": "python",
   "pygments_lexer": "ipython3",
   "version": "3.7.3"
  }
 },
 "nbformat": 4,
 "nbformat_minor": 2
}
