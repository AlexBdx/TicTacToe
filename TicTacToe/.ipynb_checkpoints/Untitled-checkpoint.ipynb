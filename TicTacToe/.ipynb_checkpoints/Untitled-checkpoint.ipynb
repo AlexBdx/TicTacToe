{
 "cells": [
  {
   "cell_type": "markdown",
   "metadata": {},
   "source": [
    "# Fast scan\n",
    "The goal for this algo is to scan efficiently a grid to find a winner.\n",
    "Let's make sure we do not forget a corner case."
   ]
  },
  {
   "cell_type": "code",
   "execution_count": 1,
   "metadata": {},
   "outputs": [],
   "source": [
    "import numpy as np\n",
    "\n",
    "grid = np.zeros((20, 20))\n",
    "pts = (1, 6, -10, -16)\n",
    "p1c1, p1c2, p2c1, p2c2 = pts\n",
    "max_l = 5\n",
    "\n",
    "subgrid = np.zeros((9, 9), dtype=np.int8)\n",
    "p1c2_pts = {\n",
    "    (0, 0), (1, 1), (2, 2), (3, 3),\n",
    "    (2, 7), (3, 7), (4, 7), (5, 7), (6, 7)\n",
    "}\n",
    "for i, j in p1c2_pts:\n",
    "    subgrid[i, j] = p1c2\n",
    "\n",
    "p1c1_pts = {\n",
    "    (3, 1),\n",
    "    (4, 0), (4, 1), (4, 2), (4, 3),\n",
    "    (5, 1), (6, 1),\n",
    "    (2, 4),\n",
    "    (4, 5)\n",
    "}\n",
    "for i, j in p1c1_pts:\n",
    "    subgrid[i, j] = p1c1\n",
    "    \n",
    "p2c2_pts = {\n",
    "    (6, 2), (6, 3), (6, 4), (6, 5), (6, 6)\n",
    "}\n",
    "for i, j in p2c2_pts:\n",
    "    subgrid[i, j] = p2c2\n",
    "\n",
    "p2c1_pts = {\n",
    "    (5, 2), (1, 4), (2, 3),\n",
    "    (3, 4), (3, 5), (3, 6),\n",
    "    (2, 6), (3, 6), (4, 6)\n",
    "}\n",
    "for i, j in p2c1_pts:\n",
    "    subgrid[i, j] = p2c1"
   ]
  },
  {
   "cell_type": "code",
   "execution_count": 2,
   "metadata": {},
   "outputs": [],
   "source": [
    "# If a p1c1 is added in the center, how many points are scored? -> Should be 1\n",
    "p1win = {max_l*p1c1, (max_l-1)*p1c1 + p1c2}\n",
    "p2win = {max_l*p2c1, (max_l-1)*p2c1 + p2c2}"
   ]
  },
  {
   "cell_type": "code",
   "execution_count": 3,
   "metadata": {},
   "outputs": [
    {
     "data": {
      "text/plain": [
       "array([[  6,   0,   0,   0,   0,   0,   0,   0,   0],\n",
       "       [  0,   6,   0,   0, -10,   0,   0,   0,   0],\n",
       "       [  0,   0,   6, -10,   1,   0, -10,   6,   0],\n",
       "       [  0,   1,   0,   6, -10, -10, -10,   6,   0],\n",
       "       [  1,   1,   1,   1,   0,   1, -10,   6,   0],\n",
       "       [  0,   1, -10,   0,   0,   0,   0,   6,   0],\n",
       "       [  0,   1, -16, -16, -16, -16, -16,   6,   0],\n",
       "       [  0,   0,   0,   0,   0,   0,   0,   0,   0],\n",
       "       [  0,   0,   0,   0,   0,   0,   0,   0,   0]], dtype=int8)"
      ]
     },
     "execution_count": 3,
     "metadata": {},
     "output_type": "execute_result"
    }
   ],
   "source": [
    "subgrid"
   ]
  },
  {
   "cell_type": "code",
   "execution_count": 4,
   "metadata": {},
   "outputs": [],
   "source": [
    "def extractSubgrid(g, i, j, max_l):\n",
    "    rstart, rend = max(0, i-(max_l-1)), min(rmax, i+(max_l))\n",
    "    cstart, cend = max(0, j-(max_l-1)), min(cmax, j+(max_l))\n",
    "    rl, cl = i-rstart, j-cstart  # Verify the local index mapping\n",
    "    assert rend-rstart >= max_l  # Check the size of the new\n",
    "    assert cend-cstart >= max_l\n",
    "    return g[rstart:rend, cstart:cend], rl, cl"
   ]
  },
  {
   "cell_type": "code",
   "execution_count": 5,
   "metadata": {},
   "outputs": [],
   "source": [
    "i, j = 8, 8\n",
    "rmax, cmax = subgrid.shape\n",
    "assert 0 <= i < 2*max_l-1 and 0 <= j < 2*max_l-1\n",
    "for i in range(9):\n",
    "    for j in range(9):\n",
    "        temp_ = subgrid[i, j]\n",
    "        subgrid[i, j] = 100  # Place token\n",
    "        #rstart, rend = max(0, i-(max_l-1)), min(rmax, i+(max_l))\n",
    "        #cstart, cend = max(0, j-(max_l-1)), min(cmax, j+(max_l))\n",
    "        k, rl, cl = extractSubgrid(subgrid, i, j, max_l)\n",
    "        assert k[rl, cl] == 100\n",
    "        subgrid[i, j] = temp_  # Revert changes"
   ]
  },
  {
   "cell_type": "code",
   "execution_count": 6,
   "metadata": {},
   "outputs": [],
   "source": [
    "# Row check\n",
    "def check_row(g, r, max_l, p):\n",
    "    \"\"\"[MAIN ALGO] If something has to be moded here, probably in the others too.\n",
    "    Returns nothing, modifies p's score in place if needed\n",
    "    grid g is also modified in place\n",
    "    \"\"\"\n",
    "    _, cmax = g.shape\n",
    "    s = sum(g[r, :max_l-1]) + g[r, 0]  # Double first elem and rm last\n",
    "    for k in range(cmax-max_l+1):  # Iterate on cols\n",
    "        s += g[r, max_l-1+k]  # Add head\n",
    "        s -= g[r, k]  # Remove tail\n",
    "        if s in p['win']:\n",
    "            g[r, k:max_l+k] = p['token_assigned']  # Assigns values\n",
    "            p['score'] += 1\n",
    "            if k == 0 and cmax == 2*max_l-1:  # CORNER CASE: what if you joined a whole line?\n",
    "                s = sum(g[r, max_l-1:])\n",
    "                if s in p['win']:  # Only works if all other symbols are not assigned\n",
    "                    p['score'] += 1\n",
    "                    break\n",
    "            else:  # That is the only point you could score in that line\n",
    "                break"
   ]
  },
  {
   "cell_type": "code",
   "execution_count": 7,
   "metadata": {},
   "outputs": [],
   "source": [
    "# Col check\n",
    "def check_col(g, c, max_l, p):\n",
    "    \"\"\"Returns nothing, modifies p's score in place if needed\n",
    "    grid g is also modified in place\n",
    "    \"\"\"\n",
    "    rmax, _ = g.shape\n",
    "    s = sum(g[:max_l-1, c]) + g[0, c]  # Double first elem and rm last\n",
    "    for k in range(rmax-max_l+1):  # Iterate on rows\n",
    "        s += g[max_l-1+k, c]  # Add head\n",
    "        s -= g[k, c]  # Remove tail\n",
    "        if s in p['win']:\n",
    "            g[k:max_l+k, c] = p['token_assigned']  # Assigns values\n",
    "            p['score'] += 1\n",
    "            if k == 0 and rmax == 2*max_l-1:  # CORNER CASE: what if you joined a whole line?\n",
    "                s = sum(g[max_l-1:, c])\n",
    "                if s in p['win']:  # Only works if all other symbols are not assigned\n",
    "                    p['score'] += 1\n",
    "                    break\n",
    "            else:  # That is the only point you could score in that line\n",
    "                break"
   ]
  },
  {
   "cell_type": "code",
   "execution_count": null,
   "metadata": {},
   "outputs": [],
   "source": [
    "def edgeHills(g, r, c):\n",
    "    rmax, cmax = g.shape\n",
    "    \n",
    "    # Coordinates of two extreme points\n",
    "    kmax = min(r, cmax-c)  # max number of steps in that direction\n",
    "    upper_right = (r-kmax, c+kmax)\n",
    "    kmax = min(rmax-r, c)\n",
    "    bottom_left = (r+kmax, c-kmax)\n",
    "    return upper_right, bottom_left"
   ]
  },
  {
   "cell_type": "code",
   "execution_count": null,
   "metadata": {},
   "outputs": [],
   "source": [
    "def test_edgeHills():\n",
    "    pass"
   ]
  },
  {
   "cell_type": "code",
   "execution_count": null,
   "metadata": {},
   "outputs": [],
   "source": [
    "def edgeDales(g, r, c):\n",
    "    rmax, cmax = g.shape\n",
    "    \n",
    "    # Coordinates of two extreme points\n",
    "    kmax = min(rmax-r, cmax-c)\n",
    "    bottom_right = (r+kmax, c+kmax)\n",
    "    kmax = min(r, c)\n",
    "    upper_left = (r-kmax, c-kmax)\n",
    "    return bottom_right, upper_left"
   ]
  },
  {
   "cell_type": "code",
   "execution_count": null,
   "metadata": {},
   "outputs": [],
   "source": [
    "def test_edgeDales():\n",
    "    pass"
   ]
  },
  {
   "cell_type": "code",
   "execution_count": null,
   "metadata": {},
   "outputs": [],
   "source": [
    "def check_hills(g, r, c, max_l, p1):\n",
    "    upper_right, bottom_left = edgeHills(g, r, c)\n",
    "    "
   ]
  },
  {
   "cell_type": "code",
   "execution_count": 13,
   "metadata": {},
   "outputs": [],
   "source": [
    "def check_dales(g, r, c, max_l, p1):\n",
    "    bottom_right, upper_left = edgeDales(g, r, c)\n",
    "    "
   ]
  },
  {
   "cell_type": "code",
   "execution_count": 8,
   "metadata": {},
   "outputs": [],
   "source": [
    "# Reset scores\n",
    "p1 = {'name': 'p1', 'win': p1win, 'score': 0, 'token_first': p1c1, 'token_assigned': p1c2}\n",
    "p2 = {'name': 'p2', 'win': p2win, 'score': 0, 'token_first': p2c1, 'token_assigned': p2c2}"
   ]
  },
  {
   "cell_type": "code",
   "execution_count": 9,
   "metadata": {},
   "outputs": [],
   "source": [
    "for i in range(9):\n",
    "    for j in range(9):\n",
    "        #i, j = max_l-1, max_l-1  # Local coordinates of the last token placed\n",
    "        temp_ = subgrid[i, j]\n",
    "        subgrid[i, j] = p1['token_first']  # Place token\n",
    "        sg, r, c = extractSubgrid(subgrid, i, j, max_l)  # Get subgrid\n",
    "        check_row(sg, r, max_l, p1)\n",
    "        check_col(sg, c, max_l, p1)\n",
    "        check_hills(sg, r-c, max_l, p1)\n",
    "        check_dales(sg, r+c, max_l, p1)\n",
    "        subgrid[i, j] = temp_"
   ]
  },
  {
   "cell_type": "code",
   "execution_count": 10,
   "metadata": {},
   "outputs": [
    {
     "name": "stdout",
     "output_type": "stream",
     "text": [
      "2 0\n"
     ]
    }
   ],
   "source": [
    "print(p1['score'], p2['score'])"
   ]
  },
  {
   "cell_type": "code",
   "execution_count": 11,
   "metadata": {},
   "outputs": [
    {
     "data": {
      "text/plain": [
       "array([[  6,   0,   0,   0,   0,   0,   0,   0,   0],\n",
       "       [  0,   6,   0,   0, -10,   0,   0,   0,   0],\n",
       "       [  0,   0,   6, -10,   1,   0, -10,   6,   0],\n",
       "       [  0,   6,   0,   6, -10, -10, -10,   6,   0],\n",
       "       [  6,   6,   6,   6,   0,   1, -10,   6,   0],\n",
       "       [  0,   6, -10,   0,   0,   0,   0,   6,   0],\n",
       "       [  0,   6, -16, -16, -16, -16, -16,   6,   0],\n",
       "       [  0,   0,   0,   0,   0,   0,   0,   0,   0],\n",
       "       [  0,   0,   0,   0,   0,   0,   0,   0,   0]], dtype=int8)"
      ]
     },
     "execution_count": 11,
     "metadata": {},
     "output_type": "execute_result"
    }
   ],
   "source": [
    "subgrid"
   ]
  },
  {
   "cell_type": "code",
   "execution_count": 12,
   "metadata": {},
   "outputs": [
    {
     "data": {
      "text/plain": [
       "array([[0., 0., 0., 0., 0., 0., 0., 0., 0., 0., 0., 0., 0., 0., 0., 0.,\n",
       "        0., 0., 0., 0.],\n",
       "       [0., 0., 0., 0., 0., 0., 0., 0., 0., 0., 0., 0., 0., 0., 0., 0.,\n",
       "        0., 0., 0., 0.],\n",
       "       [0., 0., 0., 0., 0., 0., 0., 0., 0., 0., 0., 0., 0., 0., 0., 0.,\n",
       "        0., 0., 0., 0.],\n",
       "       [0., 0., 0., 0., 0., 0., 0., 0., 0., 0., 0., 0., 0., 0., 0., 0.,\n",
       "        0., 0., 0., 0.],\n",
       "       [0., 0., 0., 0., 0., 0., 0., 0., 0., 0., 0., 0., 0., 0., 0., 0.,\n",
       "        0., 0., 0., 0.],\n",
       "       [0., 0., 0., 0., 0., 0., 0., 0., 0., 0., 0., 0., 0., 0., 0., 0.,\n",
       "        0., 0., 0., 0.],\n",
       "       [0., 0., 0., 0., 0., 0., 0., 0., 0., 0., 0., 0., 0., 0., 0., 0.,\n",
       "        0., 0., 0., 0.],\n",
       "       [0., 0., 0., 0., 0., 0., 0., 0., 0., 0., 0., 0., 0., 0., 0., 0.,\n",
       "        0., 0., 0., 0.],\n",
       "       [0., 0., 0., 0., 0., 0., 0., 0., 0., 0., 0., 0., 0., 0., 0., 0.,\n",
       "        0., 0., 0., 0.],\n",
       "       [0., 0., 0., 0., 0., 0., 0., 0., 0., 0., 0., 0., 0., 0., 0., 0.,\n",
       "        0., 0., 0., 0.],\n",
       "       [0., 0., 0., 0., 0., 0., 0., 0., 0., 0., 0., 0., 0., 0., 0., 0.,\n",
       "        0., 0., 0., 0.],\n",
       "       [0., 0., 0., 0., 0., 0., 0., 0., 0., 0., 0., 0., 0., 0., 0., 0.,\n",
       "        0., 0., 0., 0.],\n",
       "       [0., 0., 0., 0., 0., 0., 0., 0., 0., 0., 0., 0., 0., 0., 0., 0.,\n",
       "        0., 0., 0., 0.],\n",
       "       [0., 0., 0., 0., 0., 0., 0., 0., 0., 0., 0., 0., 0., 0., 0., 0.,\n",
       "        0., 0., 0., 0.],\n",
       "       [0., 0., 0., 0., 0., 0., 0., 0., 0., 0., 0., 0., 0., 0., 0., 0.,\n",
       "        0., 0., 0., 0.],\n",
       "       [0., 0., 0., 0., 0., 0., 0., 0., 0., 0., 0., 0., 0., 0., 0., 0.,\n",
       "        0., 0., 0., 0.],\n",
       "       [0., 0., 0., 0., 0., 0., 0., 0., 0., 0., 0., 0., 0., 0., 0., 0.,\n",
       "        0., 0., 0., 0.],\n",
       "       [0., 0., 0., 0., 0., 0., 0., 0., 0., 0., 0., 0., 0., 0., 0., 0.,\n",
       "        0., 0., 0., 0.],\n",
       "       [0., 0., 0., 0., 0., 0., 0., 0., 0., 0., 0., 0., 0., 0., 0., 0.,\n",
       "        0., 0., 0., 0.],\n",
       "       [0., 0., 0., 0., 0., 0., 0., 0., 0., 0., 0., 0., 0., 0., 0., 0.,\n",
       "        0., 0., 0., 0.]])"
      ]
     },
     "execution_count": 12,
     "metadata": {},
     "output_type": "execute_result"
    }
   ],
   "source": [
    "grid"
   ]
  },
  {
   "cell_type": "code",
   "execution_count": null,
   "metadata": {},
   "outputs": [],
   "source": []
  }
 ],
 "metadata": {
  "kernelspec": {
   "display_name": "Python 3",
   "language": "python",
   "name": "python3"
  },
  "language_info": {
   "codemirror_mode": {
    "name": "ipython",
    "version": 3
   },
   "file_extension": ".py",
   "mimetype": "text/x-python",
   "name": "python",
   "nbconvert_exporter": "python",
   "pygments_lexer": "ipython3",
   "version": "3.7.3"
  }
 },
 "nbformat": 4,
 "nbformat_minor": 2
}
